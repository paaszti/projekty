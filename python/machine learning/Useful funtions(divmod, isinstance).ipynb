{
 "cells": [
  {
   "cell_type": "code",
   "execution_count": 3,
   "id": "15e53a32",
   "metadata": {},
   "outputs": [
    {
     "data": {
      "text/plain": [
       "(110, 3)"
      ]
     },
     "execution_count": 3,
     "metadata": {},
     "output_type": "execute_result"
    }
   ],
   "source": [
    "divmod(553,5) #dzielnik, reszta"
   ]
  },
  {
   "cell_type": "code",
   "execution_count": 4,
   "id": "ff598cc8",
   "metadata": {},
   "outputs": [
    {
     "data": {
      "text/plain": [
       "False"
      ]
     },
     "execution_count": 4,
     "metadata": {},
     "output_type": "execute_result"
    }
   ],
   "source": [
    "isinstance(3.4, int) #czy 3,4 jest całkowtią"
   ]
  },
  {
   "cell_type": "code",
   "execution_count": 10,
   "id": "45a0cfbe",
   "metadata": {},
   "outputs": [
    {
     "data": {
      "text/plain": [
       "2"
      ]
     },
     "execution_count": 10,
     "metadata": {},
     "output_type": "execute_result"
    }
   ],
   "source": [
    "pow(2,5,3) #dwa do piątej i podzielić modulo przez 3"
   ]
  },
  {
   "cell_type": "code",
   "execution_count": null,
   "id": "33c6d129",
   "metadata": {},
   "outputs": [],
   "source": []
  }
 ],
 "metadata": {
  "kernelspec": {
   "display_name": "Python 3 (ipykernel)",
   "language": "python",
   "name": "python3"
  },
  "language_info": {
   "codemirror_mode": {
    "name": "ipython",
    "version": 3
   },
   "file_extension": ".py",
   "mimetype": "text/x-python",
   "name": "python",
   "nbconvert_exporter": "python",
   "pygments_lexer": "ipython3",
   "version": "3.9.7"
  }
 },
 "nbformat": 4,
 "nbformat_minor": 5
}
